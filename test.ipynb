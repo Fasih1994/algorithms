{
 "cells": [
  {
   "cell_type": "code",
   "execution_count": null,
   "metadata": {},
   "outputs": [],
   "source": []
  },
  {
   "cell_type": "markdown",
   "metadata": {},
   "source": [
    "Devise a function that takes an input N (integer) and returns the sum of the digits of all the numbers from 1 to N (with N included). \n",
    "For example, for N = 11 the sum is 1+2+3+4+5+6+7+8+9+(1+0)+(1+1) = 48"
   ]
  },
  {
   "cell_type": "code",
   "execution_count": 1,
   "metadata": {},
   "outputs": [],
   "source": [
    "def get_digit_sum(n:int=0)->int:\n",
    "    if n==0:\n",
    "        return 0\n",
    "\n",
    "    if n>9:\n",
    "        s = sum([int(c) for c in str(n)])\n",
    "    else:\n",
    "        s = n\n",
    "\n",
    "    return s + get_digit_sum(n-1)"
   ]
  },
  {
   "cell_type": "code",
   "execution_count": 8,
   "metadata": {},
   "outputs": [
    {
     "data": {
      "text/plain": [
       "957"
      ]
     },
     "execution_count": 8,
     "metadata": {},
     "output_type": "execute_result"
    }
   ],
   "source": [
    "get_digit_sum(110)"
   ]
  }
 ],
 "metadata": {
  "kernelspec": {
   "display_name": "venv",
   "language": "python",
   "name": "python3"
  },
  "language_info": {
   "codemirror_mode": {
    "name": "ipython",
    "version": 3
   },
   "file_extension": ".py",
   "mimetype": "text/x-python",
   "name": "python",
   "nbconvert_exporter": "python",
   "pygments_lexer": "ipython3",
   "version": "3.10.12"
  }
 },
 "nbformat": 4,
 "nbformat_minor": 2
}
