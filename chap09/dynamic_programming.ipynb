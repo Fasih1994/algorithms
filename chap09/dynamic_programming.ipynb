{
 "cells": [
  {
   "cell_type": "code",
   "execution_count": 31,
   "metadata": {},
   "outputs": [],
   "source": [
    "def get_longest_common_sub_str(word1, word2):\n",
    "    m, n = len(word1), len(word2)\n",
    "    if m==0 or n == 0:\n",
    "        return ''\n",
    "\n",
    "    grid = [[0]* (n) for _ in range(m)]\n",
    "    max_length = 0\n",
    "    end_index = 0\n",
    "\n",
    "    for i in range(m):\n",
    "        for j in range(n):\n",
    "            if word1[i] == word2[j]:\n",
    "                grid[i][j] = grid[i-1][j-1]+1\n",
    "\n",
    "                if grid[i][j] > max_length:\n",
    "                    max_length = grid[i][j]\n",
    "                    end_index = i\n",
    "            else:\n",
    "                grid[i][j]=0\n",
    "\n",
    "\n",
    "    return word1[end_index-max_length+1:max_length+1]"
   ]
  },
  {
   "cell_type": "code",
   "execution_count": 33,
   "metadata": {},
   "outputs": [
    {
     "data": {
      "text/plain": [
       "'ABABC'"
      ]
     },
     "execution_count": 33,
     "metadata": {},
     "output_type": "execute_result"
    }
   ],
   "source": [
    "word1 = 'blue'\n",
    "word2 = 'clues'\n",
    "\n",
    "longest_str = get_longest_common_sub_str(word1, word2)\n",
    "longest_str"
   ]
  }
 ],
 "metadata": {
  "kernelspec": {
   "display_name": "venv",
   "language": "python",
   "name": "python3"
  },
  "language_info": {
   "codemirror_mode": {
    "name": "ipython",
    "version": 3
   },
   "file_extension": ".py",
   "mimetype": "text/x-python",
   "name": "python",
   "nbconvert_exporter": "python",
   "pygments_lexer": "ipython3",
   "version": "3.10.12"
  }
 },
 "nbformat": 4,
 "nbformat_minor": 2
}
