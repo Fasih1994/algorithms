{
 "cells": [
  {
   "cell_type": "code",
   "execution_count": null,
   "metadata": {},
   "outputs": [],
   "source": []
  },
  {
   "cell_type": "code",
   "execution_count": 116,
   "metadata": {},
   "outputs": [],
   "source": [
    "graph = {}\n",
    "graph[\"you\"] = [\"alice\", \"bob\", \"claire\"]\n",
    "graph[\"bob\"] = [\"anuj\", \"peggy\"]\n",
    "graph[\"alice\"] = [\"peggy\"]\n",
    "graph[\"claire\"] = [\"thom\", \"jonny\"]\n",
    "graph[\"anuj\"] = []\n",
    "graph[\"peggy\"] = []\n",
    "graph[\"thom\"] = []\n",
    "graph[\"jonny\"] = []"
   ]
  },
  {
   "cell_type": "code",
   "execution_count": 117,
   "metadata": {},
   "outputs": [],
   "source": [
    "def person_is_seller(name):\n",
    "    return name[-1] == \"m\""
   ]
  },
  {
   "cell_type": "code",
   "execution_count": 118,
   "metadata": {},
   "outputs": [],
   "source": [
    "from collections import deque\n",
    "\n",
    "def search_graph(name):\n",
    "    search_queue = deque()\n",
    "    search_queue += graph[name]\n",
    "    searched = {}\n",
    "    while search_queue:\n",
    "        person = search_queue.popleft()\n",
    "        if  not searched.get(person):\n",
    "            if person_is_seller(person):\n",
    "                print(person, 'is mango seller!')\n",
    "                return True\n",
    "            else:\n",
    "                search_queue += graph[person]\n",
    "                searched[person] = True\n",
    "    return False"
   ]
  },
  {
   "cell_type": "code",
   "execution_count": 119,
   "metadata": {},
   "outputs": [
    {
     "name": "stdout",
     "output_type": "stream",
     "text": [
      "thom is mango seller!\n"
     ]
    },
    {
     "data": {
      "text/plain": [
       "True"
      ]
     },
     "execution_count": 119,
     "metadata": {},
     "output_type": "execute_result"
    }
   ],
   "source": [
    "search_graph('you')"
   ]
  },
  {
   "cell_type": "markdown",
   "metadata": {},
   "source": [
    "# Breadth-First Search Practice with GPT\n",
    "\n",
    "## Shortest Path in a Maze\n",
    "You are given a 2D grid representing a maze. The maze consists of open cells represented by '0', and walls represented by '1'. The entrance to the maze is at the top-left corner (0,0) and the exit is at the bottom-right corner (rows-1, columns-1).\n",
    "\n",
    "Write a function to find the shortest path from the entrance to the exit, if one exists. You can move up, down, left, or right, but cannot move diagonally. The maze is guaranteed to have exactly one entrance and one exit."
   ]
  },
  {
   "cell_type": "code",
   "execution_count": 146,
   "metadata": {},
   "outputs": [],
   "source": [
    "maze1 = [\n",
    "    [0, 1, 0, 0, 0],\n",
    "    [0, 1, 0, 1, 0],\n",
    "    [0, 0, 0, 1, 0],\n",
    "    [1, 1, 1, 1, 0],\n",
    "    [0, 0, 0, 0, 0]\n",
    "]\n",
    "\n",
    "maze2 = [\n",
    "    [0, 0, 0, 0, 0, 0],\n",
    "    [0, 1, 0, 1, 1, 0],\n",
    "    [0, 0, 0, 0, 0, 0],\n",
    "    [0, 1, 1, 0, 1, 1],\n",
    "    [0, 0, 0, 0, 0, 0]\n",
    "]\n",
    "\n",
    "maze3 = [\n",
    "    [0, 1, 0, 0, 0],\n",
    "    [0, 1, 1, 1, 0],\n",
    "    [0, 0, 0, 0, 0],\n",
    "    [0, 1, 1, 1, 1],\n",
    "    [0, 0, 0, 0, 0]\n",
    "]\n",
    "\n",
    "maze4 = [\n",
    "    [0, 1, 0, 0, 0],\n",
    "    [0, 1, 1, 1, 0],\n",
    "    [0, 0, 0, 0, 0],\n",
    "    [0, 1, 1, 1, 1],\n",
    "    [0, 1, 0, 0, 0]\n",
    "]\n",
    "\n",
    "maze_with_routes = [\n",
    "    [0, 1, 0, 0, 0, 0],\n",
    "    [0, 1, 1, 1, 1, 0],\n",
    "    [0, 0, 0, 0, 0, 0],\n",
    "    [0, 1, 1, 1, 1, 1],\n",
    "    [0, 0, 0, 0, 0, 0],\n",
    "    [0, 1, 1, 1, 1, 0],\n",
    "    [0, 0, 0, 0, 0, 0]\n",
    "]\n",
    "\n",
    "\n",
    "mazes = [maze1, maze2, maze3, maze4, maze_with_routes]"
   ]
  },
  {
   "cell_type": "code",
   "execution_count": 141,
   "metadata": {},
   "outputs": [],
   "source": [
    "def create_graph(maze: list=None)->dict:\n",
    "    rows = len(maze)\n",
    "    cols = len(maze[0])\n",
    "    graph = {}\n",
    "\n",
    "    # travers each position in the maze\n",
    "    for row in range(rows):\n",
    "        for col in range(cols):\n",
    "            if maze[row][col] == 0:\n",
    "                current_node = (row, col)\n",
    "                neighbours = []\n",
    "\n",
    "                # add all open neighbours\n",
    "                if row > 0 and maze[row-1][col]==0:  # up\n",
    "                    neighbours.append((row-1, col))\n",
    "                if row < rows-1 and maze[row+1][col]==0:  # down\n",
    "                    neighbours.append((row+1, col))\n",
    "                if col > 0 and maze[row][col-1]==0:  # left\n",
    "                    neighbours.append((row, col-1))\n",
    "                if col < cols-1 and maze[row][col+1]==0:  # left\n",
    "                    neighbours.append((row, col+1))\n",
    "                graph[current_node] = neighbours\n",
    "    return graph\n"
   ]
  },
  {
   "cell_type": "code",
   "execution_count": 142,
   "metadata": {},
   "outputs": [
    {
     "data": {
      "text/plain": [
       "{(0, 0): [(1, 0)],\n",
       " (0, 2): [(1, 2), (0, 3)],\n",
       " (0, 3): [(0, 2), (0, 4)],\n",
       " (0, 4): [(1, 4), (0, 3)],\n",
       " (1, 0): [(0, 0), (2, 0)],\n",
       " (1, 2): [(0, 2), (2, 2)],\n",
       " (1, 4): [(0, 4), (2, 4)],\n",
       " (2, 0): [(1, 0), (2, 1)],\n",
       " (2, 1): [(2, 0), (2, 2)],\n",
       " (2, 2): [(1, 2), (2, 1)],\n",
       " (2, 4): [(1, 4), (3, 4)],\n",
       " (3, 4): [(2, 4), (4, 4)],\n",
       " (4, 0): [(4, 1)],\n",
       " (4, 1): [(4, 0), (4, 2)],\n",
       " (4, 2): [(4, 1), (4, 3)],\n",
       " (4, 3): [(4, 2), (4, 4)],\n",
       " (4, 4): [(3, 4), (4, 3)]}"
      ]
     },
     "execution_count": 142,
     "metadata": {},
     "output_type": "execute_result"
    }
   ],
   "source": [
    "graph = create_graph(maze=maze1)\n",
    "graph"
   ]
  },
  {
   "cell_type": "code",
   "execution_count": 143,
   "metadata": {},
   "outputs": [],
   "source": [
    "from collections import deque\n",
    "def search_shortest_path(maze: list=None)->[list, None]:\n",
    "    if maze is None or not maze:\n",
    "        return None\n",
    "\n",
    "    start_position = (0, 0,)\n",
    "    end_position = (len(maze)-1, len(maze[0])-1)\n",
    "\n",
    "    # Check if the start or end position is a wall\n",
    "    if maze[start_position[0]][start_position[1]] == 1 or maze[end_position[0]][end_position[1]] == 1:\n",
    "        return None\n",
    "\n",
    "    graph = create_graph(maze=maze)\n",
    "    search_queue = deque()\n",
    "    searched = {start_position: True}\n",
    "    search_queue.append(start_position)\n",
    "    parent = {start_position: None}\n",
    "\n",
    "\n",
    "    while search_queue:\n",
    "        current_position = search_queue.popleft()\n",
    "\n",
    "        if current_position == end_position:\n",
    "            path = []\n",
    "            while current_position is not None:\n",
    "                path.insert(0, current_position)\n",
    "                current_position = parent[current_position]\n",
    "            return path\n",
    "        for neighbour in graph[current_position]:\n",
    "            if neighbour not in searched:\n",
    "                searched[neighbour] = True\n",
    "                search_queue.append(neighbour)\n",
    "                parent[neighbour] = current_position\n",
    "\n",
    "\n",
    "    return None\n"
   ]
  },
  {
   "cell_type": "code",
   "execution_count": 144,
   "metadata": {},
   "outputs": [
    {
     "data": {
      "text/plain": [
       "[[0, 1, 0, 0, 0],\n",
       " [0, 1, 0, 1, 0],\n",
       " [0, 0, 0, 1, 0],\n",
       " [1, 1, 1, 1, 0],\n",
       " [0, 0, 0, 0, 0]]"
      ]
     },
     "execution_count": 144,
     "metadata": {},
     "output_type": "execute_result"
    }
   ],
   "source": [
    "maze1"
   ]
  },
  {
   "cell_type": "code",
   "execution_count": 147,
   "metadata": {},
   "outputs": [
    {
     "name": "stdout",
     "output_type": "stream",
     "text": [
      "[[0, 1, 0, 0, 0],\n",
      " [0, 1, 0, 1, 0],\n",
      " [0, 0, 0, 1, 0],\n",
      " [1, 1, 1, 1, 0],\n",
      " [0, 0, 0, 0, 0]]\n",
      "[(0, 0), (1, 0), (2, 0), (2, 1), (2, 2), (1, 2), (0, 2), (0, 3), (0, 4), (1, 4), (2, 4), (3, 4), (4, 4)]\n",
      "\n",
      "[[0, 0, 0, 0, 0, 0],\n",
      " [0, 1, 0, 1, 1, 0],\n",
      " [0, 0, 0, 0, 0, 0],\n",
      " [0, 1, 1, 0, 1, 1],\n",
      " [0, 0, 0, 0, 0, 0]]\n",
      "[(0, 0), (1, 0), (2, 0), (3, 0), (4, 0), (4, 1), (4, 2), (4, 3), (4, 4), (4, 5)]\n",
      "\n",
      "[[0, 1, 0, 0, 0],\n",
      " [0, 1, 1, 1, 0],\n",
      " [0, 0, 0, 0, 0],\n",
      " [0, 1, 1, 1, 1],\n",
      " [0, 0, 0, 0, 0]]\n",
      "[(0, 0), (1, 0), (2, 0), (3, 0), (4, 0), (4, 1), (4, 2), (4, 3), (4, 4)]\n",
      "\n",
      "[[0, 1, 0, 0, 0],\n",
      " [0, 1, 1, 1, 0],\n",
      " [0, 0, 0, 0, 0],\n",
      " [0, 1, 1, 1, 1],\n",
      " [0, 1, 0, 0, 0]]\n",
      "None\n",
      "\n",
      "[[0, 1, 0, 0, 0, 0],\n",
      " [0, 1, 1, 1, 1, 0],\n",
      " [0, 0, 0, 0, 0, 0],\n",
      " [0, 1, 1, 1, 1, 1],\n",
      " [0, 0, 0, 0, 0, 0],\n",
      " [0, 1, 1, 1, 1, 0],\n",
      " [0, 0, 0, 0, 0, 0]]\n",
      "[(0, 0), (1, 0), (2, 0), (3, 0), (4, 0), (5, 0), (6, 0), (6, 1), (6, 2), (6, 3), (6, 4), (6, 5)]\n",
      "\n"
     ]
    }
   ],
   "source": [
    "from pprint import pprint\n",
    "for maze in mazes:\n",
    "    pprint(maze)\n",
    "    print(search_shortest_path(maze=maze))\n",
    "    print()"
   ]
  },
  {
   "cell_type": "code",
   "execution_count": null,
   "metadata": {},
   "outputs": [],
   "source": []
  }
 ],
 "metadata": {
  "kernelspec": {
   "display_name": "venv",
   "language": "python",
   "name": "python3"
  },
  "language_info": {
   "codemirror_mode": {
    "name": "ipython",
    "version": 3
   },
   "file_extension": ".py",
   "mimetype": "text/x-python",
   "name": "python",
   "nbconvert_exporter": "python",
   "pygments_lexer": "ipython3",
   "version": "3.10.12"
  }
 },
 "nbformat": 4,
 "nbformat_minor": 2
}
