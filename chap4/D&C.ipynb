{
 "cells": [
  {
   "cell_type": "code",
   "execution_count": 2,
   "metadata": {},
   "outputs": [],
   "source": [
    "from time import monotonic_ns\n"
   ]
  },
  {
   "cell_type": "code",
   "execution_count": 1,
   "metadata": {},
   "outputs": [],
   "source": [
    "def find_biggest_sqaure_segment(x, y):\n",
    "    min_seg = min(x,y)\n",
    "    max_seg = max(x,y)\n",
    "\n",
    "    if max_seg%min_seg == 0:\n",
    "        return min_seg\n",
    "    else:\n",
    "        return find_biggest_sqaure_segment(max_seg-min_seg, min_seg)"
   ]
  },
  {
   "cell_type": "code",
   "execution_count": 2,
   "metadata": {},
   "outputs": [
    {
     "data": {
      "text/plain": [
       "80"
      ]
     },
     "execution_count": 2,
     "metadata": {},
     "output_type": "execute_result"
    }
   ],
   "source": [
    "find_biggest_sqaure_segment(1680,640)"
   ]
  },
  {
   "cell_type": "code",
   "execution_count": 8,
   "metadata": {},
   "outputs": [],
   "source": [
    "def ar_sum(arr):\n",
    "    if arr==[]:\n",
    "        return 0\n",
    "    else:\n",
    "        return arr[0] + ar_sum(arr[1:])"
   ]
  },
  {
   "cell_type": "code",
   "execution_count": 10,
   "metadata": {},
   "outputs": [
    {
     "name": "stdout",
     "output_type": "stream",
     "text": [
      "5.816227\n",
      "0.113009\n"
     ]
    }
   ],
   "source": [
    "array = [i*2 for i in range(1000)]\n",
    "start = monotonic_ns()\n",
    "ar_sum(array)\n",
    "print((monotonic_ns()-start)/1000000)\n",
    "\n",
    "start = monotonic_ns()\n",
    "sum(array)\n",
    "print((monotonic_ns()-start)/1000000)"
   ]
  },
  {
   "cell_type": "code",
   "execution_count": 11,
   "metadata": {},
   "outputs": [
    {
     "data": {
      "text/plain": [
       "8"
      ]
     },
     "execution_count": 11,
     "metadata": {},
     "output_type": "execute_result"
    }
   ],
   "source": [
    "def item_count(lis: list) -> int:\n",
    "    if lis==[]:\n",
    "        return 0\n",
    "    else:\n",
    "        return 1 + item_count(lis[1:])\n",
    "\n",
    "items = [\"a\", 'b', 'c', 'd']*2\n",
    "item_count(items)"
   ]
  },
  {
   "cell_type": "code",
   "execution_count": 12,
   "metadata": {},
   "outputs": [],
   "source": [
    "def find_max(arr):\n",
    "    if len(arr)==2:\n",
    "        return arr[0] if arr[0]>arr[1] else arr[1]\n",
    "    sub_max = find_max(arr[1:])\n",
    "    return arr[0] if arr[0]> sub_max else sub_max"
   ]
  },
  {
   "cell_type": "code",
   "execution_count": 16,
   "metadata": {},
   "outputs": [
    {
     "name": "stdout",
     "output_type": "stream",
     "text": [
      "1998\n",
      "7.690653\n",
      "1998\n",
      "0.13525\n"
     ]
    }
   ],
   "source": [
    "array = [i*2 for i in range(1000)]\n",
    "\n",
    "start = monotonic_ns()\n",
    "num = find_max(array)\n",
    "print(num)\n",
    "print((monotonic_ns()-start)/1000000)\n",
    "\n",
    "start = monotonic_ns()\n",
    "num = max(array)\n",
    "print(num)\n",
    "print((monotonic_ns()-start)/1000000)"
   ]
  },
  {
   "cell_type": "code",
   "execution_count": 35,
   "metadata": {},
   "outputs": [],
   "source": [
    "def binary_search(arr, element, offset=0):\n",
    "    if not arr:\n",
    "        return -1\n",
    "\n",
    "    mid = len(arr) // 2\n",
    "\n",
    "    if arr[mid]==element:\n",
    "        return mid+offset\n",
    "\n",
    "    elif arr[mid]<element:\n",
    "        return binary_search(arr[mid+1:],element, mid+1)\n",
    "\n",
    "    return binary_search(arr[:mid], element, offset)"
   ]
  },
  {
   "cell_type": "code",
   "execution_count": 38,
   "metadata": {},
   "outputs": [
    {
     "name": "stdout",
     "output_type": "stream",
     "text": [
      "0\n",
      "0.207444\n",
      "0\n",
      "0.131615\n"
     ]
    }
   ],
   "source": [
    "start = monotonic_ns()\n",
    "num = binary_search(array, 0)\n",
    "print(num)\n",
    "print((monotonic_ns()-start)/1000000)\n",
    "\n",
    "start = monotonic_ns()\n",
    "num = array.index(0)\n",
    "print(num)\n",
    "\n",
    "print((monotonic_ns()-start)/1000000)"
   ]
  },
  {
   "cell_type": "code",
   "execution_count": 61,
   "metadata": {},
   "outputs": [],
   "source": [
    "def find_smallest(arr: list) -> int:\n",
    "    smallest = arr[0]\n",
    "    index = 0\n",
    "    for i in range(1, len(arr)):\n",
    "        if arr[i] < smallest:\n",
    "            smallest = arr[i]\n",
    "            index = i\n",
    "    return index\n",
    "\n",
    "def selection_sort(arr: list) -> list:\n",
    "    new_arr = []\n",
    "    for i in range(len(arr)):\n",
    "        smallest_index = find_smallest(arr)\n",
    "        new_arr.append(arr.pop(smallest_index))\n",
    "    return new_arr\n"
   ]
  },
  {
   "cell_type": "code",
   "execution_count": 62,
   "metadata": {},
   "outputs": [],
   "source": [
    "def quick_sort(arr):\n",
    "    if len(arr)<2:\n",
    "        return arr\n",
    "    else:\n",
    "        pivot = arr[0]\n",
    "        less = [i for i in arr if i<pivot]\n",
    "        greater = [i for i in arr if i>pivot]\n",
    "        return quick_sort(less)+[pivot]+quick_sort(greater)"
   ]
  },
  {
   "cell_type": "code",
   "execution_count": 57,
   "metadata": {},
   "outputs": [],
   "source": [
    "import random\n",
    "random_list = [random.randrange(10000) for _ in range(10000)]"
   ]
  },
  {
   "cell_type": "code",
   "execution_count": 63,
   "metadata": {},
   "outputs": [
    {
     "name": "stdout",
     "output_type": "stream",
     "text": [
      "2378.040067\n",
      "15.342679\n",
      "1.443069\n"
     ]
    }
   ],
   "source": [
    "start = monotonic_ns()\n",
    "selection_sort(random_list.copy())\n",
    "print((monotonic_ns()-start)/1000000)\n",
    "\n",
    "start = monotonic_ns()\n",
    "quick_sort(random_list.copy())\n",
    "print((monotonic_ns()-start)/1000000)\n",
    "\n",
    "start = monotonic_ns()\n",
    "sorted(random_list.copy())\n",
    "print((monotonic_ns()-start)/1000000)\n",
    "\n"
   ]
  },
  {
   "cell_type": "markdown",
   "metadata": {},
   "source": [
    "## HackerRank problem"
   ]
  },
  {
   "cell_type": "code",
   "execution_count": 117,
   "metadata": {},
   "outputs": [],
   "source": [
    "def getmaximunrewards(k, reward1, reward2):\n",
    "    k_records = sorted(reward1, reverse=1)[:k]\n",
    "    total_reward = []\n",
    "    for r1,r2 in zip(reward1,reward2):\n",
    "        if r1 in k_records:\n",
    "            total_reward.append(r1)\n",
    "            k_records.remove(r1)\n",
    "        else:\n",
    "            total_reward.append(r2)\n",
    "    return sum(total_reward)\n",
    "\n",
    "def getMaximumRewardPoints(k, reward1, reward2):\n",
    "    n = len(reward1)\n",
    "    total_reward = 0\n",
    "\n",
    "    # Sort the tasks by the difference in rewards (reward1 - reward2)\n",
    "    tasks = sorted(range(n), key=lambda i: reward1[i] - reward2[i], reverse=True)\n",
    "    print(tasks)\n",
    "\n",
    "    # Assign tasks to interns based on the sorted order\n",
    "    for i in range(n):\n",
    "        if i < k:\n",
    "            total_reward += reward1[tasks[i]]\n",
    "        else:\n",
    "            total_reward += reward2[tasks[i]]\n",
    "\n",
    "    return total_reward\n",
    "\n"
   ]
  },
  {
   "cell_type": "code",
   "execution_count": 115,
   "metadata": {},
   "outputs": [],
   "source": [
    "def run_tests():\n",
    "    test_cases = [\n",
    "        (5, [5, 4, 3, 2, 1], [1, 2, 3, 4, 5], 3, 21),\n",
    "        (5, [1, 2, 3, 4, 5], [5, 4, 3, 2, 1], 2, 21),\n",
    "        (3, [10, 8, 6], [5, 4, 3], 2, 21),\n",
    "        (4, [1, 2, 3, 4], [4, 3, 2, 1], 2, 14),\n",
    "        (6, [5, 2, 8, 6, 7, 4], [3, 5, 2, 7, 9, 1], 4, 37),\n",
    "    ]\n",
    "\n",
    "    for i, (n, reward1, reward2, k, expected_output) in enumerate(test_cases, 1):\n",
    "        result = getMaximumRewardPoints(k, reward1, reward2)\n",
    "        if result == expected_output:\n",
    "            print(f\"Test Case {i}: Passed\")\n",
    "        else:\n",
    "            print(f\"Test Case {i}: Failed. Expected {expected_output}, got {result}\")\n"
   ]
  },
  {
   "cell_type": "code",
   "execution_count": 118,
   "metadata": {},
   "outputs": [
    {
     "name": "stdout",
     "output_type": "stream",
     "text": [
      "[0, 1, 2, 3, 4]\n",
      "Test Case 1: Passed\n",
      "[4, 3, 2, 1, 0]\n",
      "Test Case 2: Passed\n",
      "[0, 1, 2]\n",
      "Test Case 3: Passed\n",
      "[3, 2, 1, 0]\n",
      "Test Case 4: Passed\n",
      "[2, 5, 0, 3, 4, 1]\n",
      "Test Case 5: Passed\n"
     ]
    }
   ],
   "source": [
    "run_tests()"
   ]
  },
  {
   "cell_type": "code",
   "execution_count": 122,
   "metadata": {},
   "outputs": [
    {
     "data": {
      "text/plain": [
       "[6, 3, 2, -1, -2, -3]"
      ]
     },
     "execution_count": 122,
     "metadata": {},
     "output_type": "execute_result"
    }
   ],
   "source": [
    "r1, r2 = [5, 2, 8, 6, 7, 4], [3, 5, 2, 7, 9, 1]\n",
    "t = []\n",
    "for i in range(len(r1)):\n",
    "    t.append(r1[i]-r2[i])\n",
    "\n",
    "sorted(t, reverse=1)"
   ]
  }
 ],
 "metadata": {
  "kernelspec": {
   "display_name": "venv",
   "language": "python",
   "name": "python3"
  },
  "language_info": {
   "codemirror_mode": {
    "name": "ipython",
    "version": 3
   },
   "file_extension": ".py",
   "mimetype": "text/x-python",
   "name": "python",
   "nbconvert_exporter": "python",
   "pygments_lexer": "ipython3",
   "version": "3.10.12"
  }
 },
 "nbformat": 4,
 "nbformat_minor": 2
}
